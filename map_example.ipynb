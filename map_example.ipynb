{
 "cells": [
  {
   "cell_type": "code",
   "execution_count": null,
   "id": "3aa7f97d",
   "metadata": {},
   "outputs": [],
   "source": [
    "map_txt = open('map.txt','r',encoding = 'utf-8')\n",
    "data = map_txt.read()\n",
    "print(data)\n",
    "land_list = data.split(', ')\n",
    "print(land_list)\n",
    "print(land_list[0])\n",
    "print(land_list[1])"
   ]
  },
  {
   "cell_type": "code",
   "execution_count": null,
   "id": "6b43ff25",
   "metadata": {},
   "outputs": [],
   "source": [
    "print(\"┏ ┫10┣ ━ ━ ━ ┳ ┫11┣ ━ ━ ━ ┳ ┫12┣ ━ ━ ━ ┳ ┫13┣ ━ ━ ━ ┳ ┫14┣ ━ ━ ━ ┳ ┫15┣ ━ ━ ━ ┓\")\n",
    "print(\"┃ 축제위원회 ┃ 프라하     ┃ 베를린     ┃ 모스크바   ┃ 제네바     ┃ 공항       ┃\")     \n",
    "print(\"┃            ┃            ┃            ┃            ┃            ┃            ┃\")\n",
    "print(\"┃            ┃            ┃            ┃            ┃            ┃            ┃  \")  \n",
    "print(\"┗━ ━ ━ ━ ━ ━ ┻━ ━ ━ ━ ━ ━ ┻━ ━ ━ ━ ━ ━ ┻━ ━ ━ ━ ━ ━ ┻━ ━ ━ ━ ━ ━ ┻━ ━ ━ ━ ━ ━ ┛\")\n",
    "print(\"┏ ┫09┣ ━ ━ ━ ┓                                                   ┏ ┫16┣ ━ ━ ━ ┓┏ ┫01┣ ━ ━ ━ ━ ━ ━ ┓\")\n",
    "print(\"┃ 상파울로   ┃                                                   ┃ 런던       ┃┃ user1            ┃\")\n",
    "print(\"┃            ┃                                                   ┃            ┃┃                  ┃\")\n",
    "print(\"┃            ┃                                                   ┃            ┃┃        10000 원  ┃\")\n",
    "print(\"┗━ ━ ━ ━ ━ ━ ┛                                                   ┗━ ━ ━ ━ ━ ━ ┛┗ ┫●┣ ━ ━ ━ ━ ━ ━ ┛\")\n",
    "print(\"┏ ┫08┣ ━ ━ ━ ┓                                                   ┏ ┫17┣ ━ ━ ━ ┓┏ ┫01┣ ━ ━ ━ ━ ━ ━ ┓\")\n",
    "print(\"┃ 오타와     ┃                                                   ┃ 파리       ┃┃ user2            ┃\")\n",
    "print(\"┃            ┃                                                   ┃            ┃┃                  ┃\")\n",
    "print(\"┃            ┃                                                   ┃            ┃┃        10000 원  ┃\")\n",
    "print(\"┗━ ━ ━ ━ ━ ━ ┛                                                   ┗━ ━ ━ ━ ━ ━ ┛┗ ┫●┣ ━ ━ ━ ━ ━ ━ ┛\")\n",
    "print(\"┏ ┫07┣ ━ ━ ━ ┓                                                   ┏┫18┣━━━┓┏ ┫01┣ ━ ━ ━ ━ ━ ━ ┓\")\n",
    "print(\"┃ 코펜하겐   ┃                                                   ┃ 뉴욕       ┃┃ user3            ┃\")\n",
    "print(\"┃            ┃                                                   ┃            ┃┃                  ┃\")\n",
    "print(\"┃            ┃                                                   ┃            ┃┃        10000 원  ┃\")\n",
    "print(\"┗━ ━ ━ ━ ━ ━ ┛                                                   ┗━ ━ ━ ━ ━ ━ ┛┗ ┫●┣ ━ ━ ━ ━ ━ ━ ┛\")\n",
    "print(\"┏ ┫06┣ ━ ━ ━ ┓                                                   ┏ ┫19┣ ━ ━ ━ ┓┏ ┫01┣ ━ ━ ━ ━ ━ ━ ┓\")\n",
    "print(\"┃ 아테네     ┃                                                   ┃ 건국대     ┃┃ user4            ┃\")\n",
    "print(\"┃            ┃                                                   ┃            ┃┃                  ┃\")\n",
    "print(\"┃            ┃                                                   ┃            ┃┃        10000 원  ┃\")\n",
    "print(\"┗━ ━ ━ ━ ━ ━ ┛                                                   ┗━ ━ ━ ━ ━ ━ ┛┗ ┫●┣ ━ ━ ━ ━ ━ ━ ┛\")\n",
    "print(\"┏ ┫05┣ ━ ━ ━ ┳ ┫04┣ ━ ━ ━ ┳ ┫03┣ ━ ━ ━ ┳ ┫02┣ ━ ━ ━ ┳ ┫01┣ ━ ━ ━ ┳ ┫00┣ ━ ━ ━ ┓\")\n",
    "print(\"┃ 무인도     ┃ 제주       ┃ 마닐라     ┃ 베이징     ┃ 타이베이   ┃ 출발점     ┃\")\n",
    "print(\"┃            ┃            ┃            ┃            ┃            ┃            ┃\")\n",
    "print(\"┃            ┃            ┃            ┃            ┃            ┃            ┃\")\n",
    "print(\"┗━ ━ ━ ━ ━ ━ ┻━ ━ ━ ━ ━ ━ ┻━ ━ ━ ━ ━ ━ ┻━ ━ ━ ━ ━ ━ ┻━ ━ ━ ━ ━ ━ ┻━ ━ ━ ━ ━ ━ ┛\")\n"
   ]
  },
  {
   "cell_type": "code",
   "execution_count": null,
   "id": "ea321182",
   "metadata": {},
   "outputs": [],
   "source": []
  },
  {
   "cell_type": "code",
   "execution_count": null,
   "id": "d2165b59",
   "metadata": {},
   "outputs": [],
   "source": []
  },
  {
   "cell_type": "code",
   "execution_count": null,
   "id": "8189e9db",
   "metadata": {},
   "outputs": [],
   "source": []
  }
 ],
 "metadata": {
  "kernelspec": {
   "display_name": "Python 3 (ipykernel)",
   "language": "python",
   "name": "python3"
  },
  "language_info": {
   "codemirror_mode": {
    "name": "ipython",
    "version": 3
   },
   "file_extension": ".py",
   "mimetype": "text/x-python",
   "name": "python",
   "nbconvert_exporter": "python",
   "pygments_lexer": "ipython3",
   "version": "3.9.12"
  }
 },
 "nbformat": 4,
 "nbformat_minor": 5
}
