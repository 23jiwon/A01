{
 "cells": [
  {
   "cell_type": "code",
   "execution_count": 1,
   "id": "52225373",
   "metadata": {},
   "outputs": [],
   "source": [
    "# 로그 파일. 로그인 시 호출\n",
    "def write_map_file(): # player수(login_count 초기화삭제하면 login_count 사용)\n",
    "    map_file = \"log\"+id_1+\"map.txt\"\n",
    "    ### TODO : file 명 중복 검사 필요\n",
    "    \n",
    "    f = open(map_file, 'w') #write 모드\n",
    "    \n",
    "    # 6.1.1 플레이어 수\n",
    "    f.write(\"the number of players : \" + login_count+\"\\n\")\n",
    "    \n",
    "    # 6.1.2 플레이어 정보\n",
    "    f.write(\"플레이어 정보\\n\") ##삭제해도 ok\n",
    "    for i range(a):\n",
    "        player_id = \"id_\"+(i+1)\n",
    "        player_cash = #TODO : 받아오는게 좋을거같아..\n",
    "        player_property\n",
    "        player_status\n",
    "        globals()['player_info_{}'.format(i+1)] = [player_id, player_cash, player_property, player_status] # 아이디, 현금, 전재산, 현재상태\n",
    "        # TODO : 상태 변경 추가해야함\n",
    "        # if -> player_info_n[3] = 1\n",
    "        f.write(player_info+\"\\n\")\n",
    "    \n",
    "    # 6.1.3 페스티벌 변수\n",
    "    festival_list = [0, 0, 0, 0, 0, 0, 0, 0, 0, 0, 0, 0, 0, 0, 0, 0, 0, 0, 0, 0]\n",
    "    festival_list[now_festival] = 1 #now_festival : 전역변수\n",
    "    f.write(\"festival list : \"+ festival_list)\n",
    "    \n",
    "    #6.1.4 소유주 문자열 배열\n",
    "    owner_list = [0, 0, 0, 0, 0, 0, 0, 0, 0, 0, 0, 0, 0, 0, 0, 0, 0, 0, 0, 0]\n",
    "    \n",
    "    f.write(\"festival list : \"+ owner_list)\n",
    "    \n",
    "    #6.1.5 랜드마크 문자열 배열\n",
    "    landmark_list = [0, 0, 0, 0, 0, 0, 0, 0, 0, 0, 0, 0, 0, 0, 0, 0, 0, 0, 0, 0]\n",
    "    \n",
    "    f.write(\"festival list : \"+ landmark_list)\n",
    "    \n",
    "    f.close()\n",
    "    \n",
    "    # 처음 로그파일이 생성될 때 활동로그 파일이 생성되도록 함\n",
    "    turn_file = \"log\"+id_1+\"turn.txt\"\n",
    "    f2 = open(turn_file, 'w')\n",
    "    f.write(\"턴 수, 플레이어 번호, 플레이어의 전 재산, 현재 턴의 더블 횟수, 출발지 번호, 도착지 번호\\n\")\n",
    "    f2.close()"
   ]
  },
  {
   "cell_type": "code",
   "execution_count": null,
   "id": "22262bab",
   "metadata": {},
   "outputs": [],
   "source": [
    "# 읽어오는 게 너무 복잡한듯.. 코드에서 변수로 처리하는게 좋을 것같고, 로그는 그냥 쓰기만 하는건 어떤지\n",
    "def read_map_file:\n",
    "    f = open(map_file_name, 'r') #read모드. 데이터 읽어올 때\n",
    "    \n",
    "    f.close()"
   ]
  },
  {
   "cell_type": "code",
   "execution_count": null,
   "id": "d91b32db",
   "metadata": {},
   "outputs": [],
   "source": [
    "# 활동로그 파일\n",
    "def write_turn_file():\n",
    "    turn_file = \"log\"+id_1+\"turn.txt\"\n",
    "    f = open(turn_file, 'a')#append 모드. 이미 존재하는 파일에 이어서 쓰기\n",
    "    #TODO : 턴 수 계산하는 변수 있으면 좋을 듯\n",
    "    turn_number\n",
    "    player_property #todo : player_n의 property\n",
    "    #todo : new_position 받기\n",
    "    f.write(turn_number+\", \"+now_order+\", \"+player_property+\", \"+now_order_double+\", \"+now_position+\", \"+new_position+\"\\n\")\n",
    "    f.close()"
   ]
  }
 ],
 "metadata": {
  "kernelspec": {
   "display_name": "Python 3 (ipykernel)",
   "language": "python",
   "name": "python3"
  },
  "language_info": {
   "codemirror_mode": {
    "name": "ipython",
    "version": 3
   },
   "file_extension": ".py",
   "mimetype": "text/x-python",
   "name": "python",
   "nbconvert_exporter": "python",
   "pygments_lexer": "ipython3",
   "version": "3.10.4"
  }
 },
 "nbformat": 4,
 "nbformat_minor": 5
}
