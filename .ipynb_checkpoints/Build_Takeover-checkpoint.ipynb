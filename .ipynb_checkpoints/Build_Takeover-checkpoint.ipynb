{
 "cells": [
  {
   "cell_type": "code",
   "execution_count": 19,
   "id": "103aeda6",
   "metadata": {},
   "outputs": [
    {
     "name": "stdout",
     "output_type": "stream",
     "text": [
      ">> build?\n",
      "y\n",
      "====== 건설을 진행합니다 ======\n"
     ]
    }
   ],
   "source": [
    "import re\n",
    "\n",
    "# 매매가 배열\n",
    "global land_fee\n",
    "land_fee = [0, 500, 500, 500, 500, 0, 1000, 1000, 1000, 1000, 0, 1500, 1500, 1500, 1500, 0, 2000, 2000, 2000, 2000] \n",
    "# 매입 flag\n",
    "global build_flag\n",
    "# player id\n",
    "global id_1\n",
    "\n",
    "build_flag = True # 매입 선택 가능한 상태\n",
    "id_1 = \"p1\"\n",
    "global id_1_info\n",
    "id_1_info = [id_1, 10000, 20000, 0]\n",
    "#현재 진행중인 플레이어의 배열 임시 설정 (차례가 끝나면 다음 차례의 배열로 바꿈)\n",
    "global id_now_info\n",
    "#위에서 1번 플레이어 차례로 왔다고 가정\n",
    "id_now_info = id_1_info\n",
    "\n",
    "\n",
    "#####while문 바꿀 예정!\n",
    "\n",
    "def buildFunc():\n",
    "    if(build_flag):\n",
    "        print(\">> build?\")\n",
    "        build_input=input().lower()\n",
    "\n",
    "    # 공백 확인\n",
    "    b_res = bool (re.search(\" \" , build_input))\n",
    "\n",
    "    if(build_input.isspace()or build_input==\"\"): \n",
    "        # 입력에 공백만 있다면\n",
    "        print(\"[Error]: 인자의 개수가 적습니다. 1개의 인자를 입력해주세요.\")\n",
    "    \n",
    "    elif(b_res):\n",
    "        #문자열 사이에 공백이 있다면\n",
    "        print(\"[Error]: 인자의 개수가 많습니다. 1개의 인자를 입력해주세요.\")\n",
    "    \n",
    "    else:\n",
    "        # 문자열에 공백 없으면\n",
    "        if(build_input==\"yes\" or build_input==\"네\" or build_input==\"o\"or\n",
    "           build_input==\"ㅇㅇ\" or build_input==\"y\"or build_input==\"ㅇ\"):\n",
    "            if(id_now_info[1]>5000):\n",
    "                print(\"====== 건설을 진행합니다 ======\")\n",
    "                id_now_info[1]-=land_fee[1] #여긴 어떻게 처리해야하지->돈 지불\n",
    "                # 건설 진행 액션 코드\n",
    "            else:\n",
    "                print(\"[Error]: 매입할 돈이 부족합니다. 매입을 포기합니다.\")\n",
    "        \n",
    "        elif(build_input==\"no\" or build_input==\"아니오\" or build_input==\"아니요\" or build_input==\"x\"\n",
    "             or build_input== \"ㄴㄴ\" or build_input== \"n\" or build_input==\"ㄴ\"):\n",
    "            print(\"====== 매입을 포기합니다 ======\")\n",
    "            # 건설 포기 액션 코드\n",
    "        \n",
    "        else:\n",
    "            print(\"[Error]: 인자에 올바르지 않은 입력값이 들어왔습니다.\")\n",
    "            # yes, no 동의어 축약형 표 출력\n",
    "            \n",
    "            \n",
    "        \n",
    "buildFunc()"
   ]
  },
  {
   "cell_type": "code",
   "execution_count": 43,
   "id": "f65b2d38",
   "metadata": {},
   "outputs": [
    {
     "name": "stdout",
     "output_type": "stream",
     "text": [
      ">> takeover?\n",
      "hihi\n",
      ">> takeover?\n",
      "ㅛ\n",
      ">> takeover?\n",
      "y\n",
      "====== 인수를 진행합니다 ======\n"
     ]
    }
   ],
   "source": [
    "import re\n",
    "# 인수 flag\n",
    "global takeover_flag\n",
    "takeover_flag = True # 매입 선택 가능한 상태\n",
    "# 인수가 배열\n",
    "global take_fee\n",
    "take_fee = [0, 500, 500, 500, 500, 0, 1000, 1000, 1000, 1000, 0, 1500, 1500, 1500, 1500, 0, 2000, 2000, 2000, 2000] \n",
    "# player id\n",
    "global id_1\n",
    "id_1 = \"p1\"\n",
    "global id_1_info\n",
    "id_1_info = [id_1, 10000, 20000, 0]\n",
    "#현재 진행중인 플레이어의 배열 임시 설정 (차례가 끝나면 다음 차례의 배열로 바꿈)\n",
    "global id_now_info\n",
    "#위에서 1번 플레이어 차례로 왔다고 가정\n",
    "id_now_info = id_1_info\n",
    "\n",
    "def takeoverFunc():\n",
    "    #if(takeover_flag):\n",
    "    while 1:\n",
    "        print(\">> takeover?\")\n",
    "        takeover_input=input().lower()\n",
    "\n",
    "        # 공백 확인\n",
    "        t_res = bool (re.search(\" \" ,takeover_input))\n",
    "    \n",
    "        try:\n",
    "            # 문자열에 공백 없으면\n",
    "            if(takeover_input==\"yes\" or takeover_input==\"네\" or takeover_input==\"o\"or\n",
    "                takeover_input==\"ㅇㅇ\" or takeover_input==\"y\"or takeover_input==\"ㅇ\"):\n",
    "                if(id_now_info[1]>999):\n",
    "                    print(\"====== 인수를 진행합니다 ======\")\n",
    "                    id_now_info[1]-=take_fee[1]# 자산 차감\n",
    "                    # 인수 진행 액션 코드\n",
    "                    break\n",
    "                else:\n",
    "                    print(\"[Error]: 인수를 진행할 돈이 부족합니다. 건설을 포기합니다.\")\n",
    "                    break\n",
    "        \n",
    "            elif(takeover_input==\"no\" or takeover_input==\"아니오\" or takeover_input==\"아니요\" or takeover_input==\"x\"\n",
    "                    or takeover_input== \"ㄴㄴ\" or takeover_input== \"n\" or takeover_input==\"ㄴ\"):\n",
    "                print(\"====== 인수를 포기합니다 ======\")\n",
    "                # 인수 포기 액션 코드\n",
    "                break\n",
    "            \n",
    "        except:\n",
    "            try:\n",
    "                if(takeover_input.isspace() or takeover_input==\"\"): \n",
    "                    # 입력에 공백만 있다면\n",
    "                    print(\"[Error]: 인자의 개수가 적습니다. 1개의 인자를 입력해주세요.\")\n",
    "                    continue\n",
    "    \n",
    "                elif(t_res):\n",
    "                    #문자열 사이에 공백이 있다면\n",
    "                    print(\"[Error]: 인자의 개수가 많습니다. 1개의 인자를 입력해주세요.\")\n",
    "                    continue\n",
    "            except:\n",
    "                print(\"[Error]: 인자에 올바르지 않은 입력값이 들어왔습니다.\")\n",
    "                # yes, no 동의어 축약형 표 출력\n",
    "                continue\n",
    "            \n",
    "            \n",
    "            \n",
    "takeoverFunc()"
   ]
  },
  {
   "cell_type": "code",
   "execution_count": 6,
   "id": "71b662de",
   "metadata": {},
   "outputs": [
    {
     "name": "stdout",
     "output_type": "stream",
     "text": [
      ">> trip?\n",
      "파리\n",
      "===== 파리 도시로 이동합니다. =====\n"
     ]
    }
   ],
   "source": [
    "global default_map_name\n",
    "default_map_name = ['start', '타이베이', '베이징', '마닐라', '제주', 'island', '아테네', '코펜하겐', '오타와', '상파울로', 'festival', '프라하', '베를린', '모스크바', '제네바', 'airport', '런던', '파리', '뉴욕', '건국대']\n",
    "#현재 진행중인 플레이어의 번호\n",
    "global playerTurn\n",
    "playerTurn = 1 #0으로 처음엔 설정하지만 여기선 테스트를 위해 1로 설정\n",
    "# 페스티벌 변수\n",
    "global now_trip\n",
    "now_trip = 0\n",
    "\n",
    "def trip():\n",
    "    while 1:\n",
    "        print(\">> trip?\")\n",
    "        #city_input=input(id+\" > \").lower()\n",
    "        cityName=input()\n",
    "        try:\n",
    "            cityName = int(cityName)\n",
    "            if owner_list[cityName] != playerTurn:\n",
    "                print('[Error]: ' + default_map_name[cityName] + ' 유효하지 않은 칸의 이름입니다. 유효한 칸의 이름을 입력해주세요.')\n",
    "            else:\n",
    "                print('===== ' + default_map_name[cityName] + ' 도시로 이동합니다. =====')\n",
    "                now_trip = cityName\n",
    "                break\n",
    "        except:\n",
    "            try:\n",
    "                b = float(cityName) - 1 #이 식에서 에러가 발생하면 문자열이라는 뜻\n",
    "                print('[Error]: 유효하지 않은 도시번호입니다. 0이상 19이하의 정수를 입력해주세요.')\n",
    "                continue\n",
    "            except:\n",
    "                a = 0\n",
    "                for i in range(20):\n",
    "                    if cityName == default_map_name[i]:\n",
    "                        if owner_list[i] == playerTurn: \n",
    "                            print('===== ' + default_map_name[i] + ' 도시로 이동합니다. =====')\n",
    "                            now_trip = i\n",
    "                            a = 1\n",
    "                            return    \n",
    "                        else:\n",
    "                            print('[Error]: ' + default_map_name[i] + ' 유효하지 않은 칸의 이름입니다. 유효한 칸의 이름을 입력해주세요.')\n",
    "                            a = 1\n",
    "                            continue\n",
    "                if a == 0: #맵 배열을 다 뒤져봐도 나오지 않음\n",
    "                    print('[Error]: 입력한 칸은 존재하지 않는 칸입니다.')  \n",
    "trip()\n"
   ]
  },
  {
   "cell_type": "code",
   "execution_count": null,
   "id": "5f3c98fc",
   "metadata": {},
   "outputs": [],
   "source": []
  },
  {
   "cell_type": "code",
   "execution_count": null,
   "id": "7b691157",
   "metadata": {},
   "outputs": [],
   "source": []
  },
  {
   "cell_type": "code",
   "execution_count": null,
   "id": "3e31fc6c",
   "metadata": {},
   "outputs": [],
   "source": []
  },
  {
   "cell_type": "code",
   "execution_count": null,
   "id": "442ced81",
   "metadata": {},
   "outputs": [],
   "source": []
  },
  {
   "cell_type": "code",
   "execution_count": null,
   "id": "62180e9e",
   "metadata": {},
   "outputs": [],
   "source": []
  },
  {
   "cell_type": "code",
   "execution_count": null,
   "id": "21ebe836",
   "metadata": {},
   "outputs": [],
   "source": []
  },
  {
   "cell_type": "code",
   "execution_count": null,
   "id": "0dad32ac",
   "metadata": {},
   "outputs": [],
   "source": []
  },
  {
   "cell_type": "code",
   "execution_count": null,
   "id": "a63a8191",
   "metadata": {},
   "outputs": [],
   "source": []
  },
  {
   "cell_type": "code",
   "execution_count": null,
   "id": "85aecf87",
   "metadata": {},
   "outputs": [],
   "source": []
  },
  {
   "cell_type": "code",
   "execution_count": null,
   "id": "c5f2092a",
   "metadata": {},
   "outputs": [],
   "source": []
  },
  {
   "cell_type": "code",
   "execution_count": null,
   "id": "3122aa5c",
   "metadata": {},
   "outputs": [],
   "source": []
  },
  {
   "cell_type": "code",
   "execution_count": null,
   "id": "662720af",
   "metadata": {},
   "outputs": [],
   "source": []
  },
  {
   "cell_type": "code",
   "execution_count": null,
   "id": "694c7944",
   "metadata": {},
   "outputs": [],
   "source": []
  },
  {
   "cell_type": "code",
   "execution_count": null,
   "id": "984c4943",
   "metadata": {},
   "outputs": [],
   "source": []
  },
  {
   "cell_type": "code",
   "execution_count": null,
   "id": "b4838afd",
   "metadata": {},
   "outputs": [],
   "source": []
  },
  {
   "cell_type": "code",
   "execution_count": null,
   "id": "c7acc83e",
   "metadata": {},
   "outputs": [],
   "source": []
  },
  {
   "cell_type": "code",
   "execution_count": null,
   "id": "5ed04e01",
   "metadata": {},
   "outputs": [],
   "source": []
  },
  {
   "cell_type": "code",
   "execution_count": null,
   "id": "425b8dcb",
   "metadata": {},
   "outputs": [],
   "source": []
  },
  {
   "cell_type": "code",
   "execution_count": null,
   "id": "f45850cf",
   "metadata": {},
   "outputs": [],
   "source": []
  },
  {
   "cell_type": "code",
   "execution_count": null,
   "id": "26d362d3",
   "metadata": {},
   "outputs": [],
   "source": []
  },
  {
   "cell_type": "code",
   "execution_count": null,
   "id": "f4d9b795",
   "metadata": {},
   "outputs": [],
   "source": []
  },
  {
   "cell_type": "code",
   "execution_count": null,
   "id": "7379b7b6",
   "metadata": {},
   "outputs": [],
   "source": []
  },
  {
   "cell_type": "code",
   "execution_count": null,
   "id": "9a9a0a9e",
   "metadata": {},
   "outputs": [],
   "source": []
  },
  {
   "cell_type": "code",
   "execution_count": null,
   "id": "c202da66",
   "metadata": {},
   "outputs": [],
   "source": []
  },
  {
   "cell_type": "code",
   "execution_count": null,
   "id": "826eefcb",
   "metadata": {},
   "outputs": [],
   "source": []
  },
  {
   "cell_type": "code",
   "execution_count": null,
   "id": "63993746",
   "metadata": {},
   "outputs": [],
   "source": []
  },
  {
   "cell_type": "code",
   "execution_count": 20,
   "id": "12a9d021",
   "metadata": {},
   "outputs": [
    {
     "name": "stdout",
     "output_type": "stream",
     "text": [
      "[Error]: 인자의 개수가 적습니다. 1개의 인자를 입력해주세요.\n"
     ]
    }
   ],
   "source": [
    "if(build_input.isspace()): \n",
    "    # 문자열에 공백이 있다면\n",
    "    #if(build_input==\"\"):\n",
    "    print(\"[Error]: 인자의 개수가 적습니다. 1개의 인자를 입력해주세요.\")\n",
    "elif((blank_val2) == True):\n",
    "    print(\"[Error]: 인자의 개수가 많습니다. 1개의 인자를 입력해주세요.\")\n",
    "else:\n",
    "    # 문자열에 공백 없으면\n",
    "    if(build_input==\"yes\"or\"네\"or\"o\"or\"ㅇㅇ\"or\"y\"or\"ㅇ\"):\n",
    "        print(\"====== 건설을 진행합니다 ======\")\n",
    "        # 건설 진행 액션 코드\n",
    "    \n",
    "    elif(build_input==\"no\"or\"아니오\"or\"아니요\"or\"x\"or\"ㄴㄴ\"or\"n\"or\"ㄴ\"):\n",
    "        print(\"====== 건설을 포기합니다 ======\")\n",
    "        # 건설 포기 액션 코드\n",
    "\n",
    "    \n"
   ]
  },
  {
   "cell_type": "code",
   "execution_count": null,
   "id": "7adead2e",
   "metadata": {},
   "outputs": [],
   "source": []
  },
  {
   "cell_type": "code",
   "execution_count": null,
   "id": "00e40f2f",
   "metadata": {},
   "outputs": [],
   "source": []
  },
  {
   "cell_type": "code",
   "execution_count": null,
   "id": "401bcd66",
   "metadata": {},
   "outputs": [],
   "source": []
  },
  {
   "cell_type": "code",
   "execution_count": null,
   "id": "2839691c",
   "metadata": {},
   "outputs": [],
   "source": []
  },
  {
   "cell_type": "code",
   "execution_count": null,
   "id": "da676eaf",
   "metadata": {},
   "outputs": [],
   "source": []
  },
  {
   "cell_type": "code",
   "execution_count": null,
   "id": "912f2a34",
   "metadata": {},
   "outputs": [],
   "source": []
  }
 ],
 "metadata": {
  "kernelspec": {
   "display_name": "Python 3 (ipykernel)",
   "language": "python",
   "name": "python3"
  },
  "language_info": {
   "codemirror_mode": {
    "name": "ipython",
    "version": 3
   },
   "file_extension": ".py",
   "mimetype": "text/x-python",
   "name": "python",
   "nbconvert_exporter": "python",
   "pygments_lexer": "ipython3",
   "version": "3.9.13"
  }
 },
 "nbformat": 4,
 "nbformat_minor": 5
}
